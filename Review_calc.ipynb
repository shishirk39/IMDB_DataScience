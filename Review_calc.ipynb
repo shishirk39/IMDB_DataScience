{
 "cells": [
  {
   "cell_type": "code",
   "execution_count": 32,
   "metadata": {},
   "outputs": [
    {
     "name": "stdout",
     "output_type": "stream",
     "text": [
      "1. input text   2. enter file name(.txt)\n",
      "enter your choice : 1\n",
      "Enter movie review : the the the waste\n",
      "Negative Review\n"
     ]
    }
   ],
   "source": [
    "from textblob import TextBlob\n",
    "\n",
    "def getResult(stringcoming):\n",
    "    stringProcessed= stringcoming.split()\n",
    "    totalpolarity=0\n",
    "    for i in stringProcessed:\n",
    "        senti = TextBlob(i) \n",
    "        totalpolarity += senti.sentiment.polarity\n",
    "    \n",
    "    if(totalpolarity>0):\n",
    "        print('Positive Review')\n",
    "    elif(totalpolarity<0):\n",
    "        print('Negative Review')\n",
    "    else:\n",
    "        print('Neutral Review')\n",
    "    \n",
    "\n",
    "\n",
    "def pivot():\n",
    "    print(\"1. input text   2. enter file name(.txt)\")\n",
    "    choice=input('enter your choice : ')\n",
    "    if(choice =='1'):\n",
    "        user_text = input(\"Enter movie review : \")\n",
    "        getResult(user_text)\n",
    "    elif(choice=='2'):\n",
    "        userfilename=input(\"Enter file name in same folder: \")\n",
    "        f=open(userfilename)\n",
    "        filecontents=f.read()\n",
    "        getResult(filecontents)\n",
    "\n",
    "pivot()"
   ]
  },
  {
   "cell_type": "code",
   "execution_count": 10,
   "metadata": {},
   "outputs": [
    {
     "data": {
      "text/plain": [
       "(1.0, 'positive')"
      ]
     },
     "execution_count": 10,
     "metadata": {},
     "output_type": "execute_result"
    }
   ],
   "source": [
    "def sentiment_textblob(feedback): \n",
    "    from textblob import TextBlob\n",
    "    senti = TextBlob(feedback) \n",
    "    polarity = senti.sentiment.polarity \n",
    "return (polarity) \n"
   ]
  }
 ],
 "metadata": {
  "kernelspec": {
   "display_name": "Python 3",
   "language": "python",
   "name": "python3"
  },
  "language_info": {
   "codemirror_mode": {
    "name": "ipython",
    "version": 3
   },
   "file_extension": ".py",
   "mimetype": "text/x-python",
   "name": "python",
   "nbconvert_exporter": "python",
   "pygments_lexer": "ipython3",
   "version": "3.6.5"
  }
 },
 "nbformat": 4,
 "nbformat_minor": 2
}
