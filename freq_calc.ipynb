{
 "cells": [
  {
   "cell_type": "code",
   "execution_count": null,
   "metadata": {},
   "outputs": [],
   "source": [
    "import pandas as pd\n",
    "df1 = pd.read_csv('labeledBow.csv')\n",
    "df1\n",
    "csvFileall1 = df1.allthing\n",
    "\n",
    "for i in range (0,25000):\n",
    "    csvFileall1[i]=csvFileall1[i][2:]\n",
    "    \n",
    "for i in range (0,25000):\n",
    "    csvFileall1[i]=csvFileall1[i].strip()\n",
    "    \n",
    "import re\n",
    "for i in range (0,25000):\n",
    "    csvFileall1[i]=re.sub(\"[ ]\", \",\", csvFileall1[i])\n",
    "    \n",
    "print (csvFileall1)\n",
    "\n",
    "\n",
    "dictionary_second1={}\n",
    "for i in range (0,25000):\n",
    "    temp_array1=csvFileall1[i].split(',')\n",
    "    dictionary_second1[i]=dict(map(int, x.split(':')) for x in temp_array1)\n",
    "dictionary_second1\n",
    "\n",
    "\n",
    "frequency_array1=[0]*89527\n",
    "for x, y in dictionary_second1.items():\n",
    "    for e,f in y.items():\n",
    "        frequency_array1[e]+=f;\n",
    "        \n",
    "        \n",
    "pd.DataFrame(frequency_array1).to_csv(\"frequency1.csv\")\n"
   ]
  }
 ],
 "metadata": {
  "kernelspec": {
   "display_name": "Python 3",
   "language": "python",
   "name": "python3"
  },
  "language_info": {
   "codemirror_mode": {
    "name": "ipython",
    "version": 3
   },
   "file_extension": ".py",
   "mimetype": "text/x-python",
   "name": "python",
   "nbconvert_exporter": "python",
   "pygments_lexer": "ipython3",
   "version": "3.6.5"
  }
 },
 "nbformat": 4,
 "nbformat_minor": 2
}
